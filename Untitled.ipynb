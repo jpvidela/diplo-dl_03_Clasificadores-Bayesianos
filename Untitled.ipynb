{
 "cells": [
  {
   "cell_type": "code",
   "execution_count": 4,
   "id": "af04102d-847c-4806-a97a-161b6474460b",
   "metadata": {},
   "outputs": [],
   "source": [
    "import nltk\n",
    "from nltk.corpus import stopwords\n",
    "from nltk.stem import PorterStemmer, WordNetLemmatizer"
   ]
  },
  {
   "cell_type": "code",
   "execution_count": 3,
   "id": "79c66e3a-e22a-44ed-adb7-572e22267598",
   "metadata": {},
   "outputs": [
    {
     "name": "stdout",
     "output_type": "stream",
     "text": [
      "[False, True, False]\n"
     ]
    }
   ],
   "source": [
    "check = ['usually', 'themselves','anything']\n",
    "print([x in stopwords.words('english') for x in check])"
   ]
  },
  {
   "cell_type": "code",
   "execution_count": 5,
   "id": "93118aef-b29c-4284-8e2e-4bc7bdec3a71",
   "metadata": {},
   "outputs": [],
   "source": [
    "lemmatizer = WordNetLemmatizer()"
   ]
  },
  {
   "cell_type": "code",
   "execution_count": 8,
   "id": "bf9c68f5-77cf-4817-be34-07479b97e87b",
   "metadata": {},
   "outputs": [
    {
     "data": {
      "text/plain": [
       "'be'"
      ]
     },
     "execution_count": 8,
     "metadata": {},
     "output_type": "execute_result"
    }
   ],
   "source": [
    "lemmatizer.lemmatize('being', pos='v')"
   ]
  },
  {
   "cell_type": "code",
   "execution_count": 9,
   "id": "f4285b72-36f3-4837-927c-75e36f8e09f7",
   "metadata": {},
   "outputs": [],
   "source": [
    "stemmer = PorterStemmer()"
   ]
  },
  {
   "cell_type": "code",
   "execution_count": 10,
   "id": "ab662db6-079a-4019-8872-a3738f5052b0",
   "metadata": {},
   "outputs": [
    {
     "data": {
      "text/plain": [
       "'presid'"
      ]
     },
     "execution_count": 10,
     "metadata": {},
     "output_type": "execute_result"
    }
   ],
   "source": [
    "stemmer.stem('president')"
   ]
  },
  {
   "cell_type": "code",
   "execution_count": null,
   "id": "fe382939-a651-49cc-8718-d174d792d23f",
   "metadata": {},
   "outputs": [],
   "source": []
  }
 ],
 "metadata": {
  "kernelspec": {
   "display_name": "Python [conda env:diplo]",
   "language": "python",
   "name": "conda-env-diplo-py"
  },
  "language_info": {
   "codemirror_mode": {
    "name": "ipython",
    "version": 3
   },
   "file_extension": ".py",
   "mimetype": "text/x-python",
   "name": "python",
   "nbconvert_exporter": "python",
   "pygments_lexer": "ipython3",
   "version": "3.9.6"
  }
 },
 "nbformat": 4,
 "nbformat_minor": 5
}
