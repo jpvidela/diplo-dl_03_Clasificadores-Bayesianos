{
 "cells": [
  {
   "cell_type": "markdown",
   "metadata": {},
   "source": [
    "# Resolver este problema usando el sentido común\n",
    "\n",
    "Los siguientes datos son ficticios:\n",
    "\n",
    "Usted es una mujer que ya cruzó la barrera de los 40 años. Supongamos que su médico de cabecera le sugiere que se haga una mamografía de rutina. Es lo que indica el protocolo. En principio, el médico le dice que solamente el 1 por ciento de mujeres de su edad tienen cáncer de mama, o sea una mujer de cada cien.\n",
    "\n",
    "Pero le agrega otros datos que usted debe conocer. El test ¡no es infalible! ¿Qué quiere decir esto?\n",
    "\n",
    "Cuando se habla de mamografías, se sabe que el 80% de las mujeres que tienen cáncer de mama tendrán un resultado positivo. Leído de otra manera, esto es lo mismo que decir que al test se le escapan el 20% de las mujeres que se hacen el estudio pero que sí están enfermas. Es muy importante entender esto: hay 20% de mujeres que tienen este cáncer pero la mamografía no lo detectará. Estos casos se llaman falsos negativos.\n",
    "\n",
    "Pero también se sabe (y esto es muy importante) que 9.6% de mujeres que no tienen cáncer de mama tendrán igualmente un resultado positivo de la mamografía. Es decir, el resultado será positivo pero la mujer no tiene cáncer. A este grupo se lo conoce con el nombre de falsos positivos.\n",
    "\n",
    "Ahora sí, con toda esta información, usted se hace el test y cuando le entregan los resultados, lee que la mamografía resulta positiva.\n",
    "\n",
    "Pregunta: ¿cuál es la probabilidad de que usted tenga en realidad cáncer de mama?\n",
    "\n"
   ]
  },
  {
   "cell_type": "markdown",
   "metadata": {},
   "source": [
    "### Razonamiento del problema\n",
    "Sé que la probabilidad de tener cancer es baja. Al mismo tiempo, en la población con cáncer, la probabilidad de que el estudio de positivo es alta. Si me dio positivo, qué tan probable es que tenga cáncer? Cómo tengo en cuenta que si bien el estudi dió posoitivo, igual es poco probable haber contraído cáncer?"
   ]
  },
  {
   "cell_type": "markdown",
   "metadata": {},
   "source": [
    "### Análsisis de las probabilidades del enunciado\n",
    "\n",
    "$P(Cancer) = 0.01 $\n",
    "\n",
    "$P(R_{positivo}|Cancer) = 0.80$ , $P(R_{negativo}|Cancer) = 0.20$\n",
    "\n",
    "$P(R_{positivo}|¬Cancer) = 0.096$\n",
    "\n",
    "$P(Cancer|R_{positivo}) = \\frac{P(R_{positivo}|Cancer) * P(Cancer)}{P(R_{Positivo})}$"
   ]
  },
  {
   "cell_type": "markdown",
   "metadata": {},
   "source": [
    "- **Posterior**: Probabilidad de tener cancer dado que obtuve un resultado positivo \n",
    "- **Prior**: Probabilidad de tener cáncer\n",
    "- **Likelihood**: Qué tan probable es obtener un resultado positivo si realmente tuviera cancer?\n",
    "- **Normalización**: Probabilidad general de obtener un resultado positivo "
   ]
  },
  {
   "cell_type": "code",
   "execution_count": 2,
   "metadata": {},
   "outputs": [
    {
     "name": "stdout",
     "output_type": "stream",
     "text": [
      "Habiendo observado un Resultado Positivo, la probabilidad de tener Cáncer es: 0.89%\n"
     ]
    }
   ],
   "source": [
    "P_Cancer = 0.01\n",
    "P_RPositivoDadoCancer = 0.80\n",
    "P_RPositivoDadoNoCancer = 0.096\n",
    "P_RPositivo = P_RPositivoDadoCancer + P_RPositivoDadoNoCancer\n",
    "\n",
    "PCancerDadoRPositivo = (P_RPositivoDadoCancer * P_Cancer) / P_RPositivo\n",
    "print(f'Habiendo observado un Resultado Positivo, la probabilidad de tener Cáncer es: {round(PCancerDadoRPositivo*100,2)}%')"
   ]
  },
  {
   "cell_type": "markdown",
   "metadata": {},
   "source": [
    "Resolución para Revisión de Conocimiento (Aplicación Bayes Discreto)"
   ]
  },
  {
   "cell_type": "code",
   "execution_count": 5,
   "metadata": {},
   "outputs": [
    {
     "data": {
      "text/plain": [
       "0.9977702461648233"
      ]
     },
     "execution_count": 5,
     "metadata": {},
     "output_type": "execute_result"
    }
   ],
   "source": [
    "P_NoCancer = 1 - P_Cancer\n",
    "P_Negativo_NoCancer = 1 - P_RPositivoDadoNoCancer\n",
    "P_Negativo_Cancer = 1 - P_RPositivoDadoCancer\n",
    "P_Negativo = P_Negativo_NoCancer * P_NoCancer + P_Negativo_Cancer * P_Cancer\n",
    "\n",
    "P_NoCancer_Negativo = (P_Negativo_NoCancer * P_NoCancer) / P_Negativo\n",
    "P_NoCancer_Negativo"
   ]
  }
 ],
 "metadata": {
  "kernelspec": {
   "display_name": "Python [conda env:diplo]",
   "language": "python",
   "name": "conda-env-diplo-py"
  },
  "language_info": {
   "codemirror_mode": {
    "name": "ipython",
    "version": 3
   },
   "file_extension": ".py",
   "mimetype": "text/x-python",
   "name": "python",
   "nbconvert_exporter": "python",
   "pygments_lexer": "ipython3",
   "version": "3.9.6"
  }
 },
 "nbformat": 4,
 "nbformat_minor": 4
}
