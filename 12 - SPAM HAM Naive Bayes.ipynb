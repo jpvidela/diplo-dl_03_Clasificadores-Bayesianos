{
 "cells": [
  {
   "cell_type": "code",
   "execution_count": 1,
   "metadata": {},
   "outputs": [],
   "source": [
    "# Estos dos comandos evitan que haya que hacer reload cada vez que se modifica un paquete\n",
    "%load_ext autoreload\n",
    "%autoreload 2"
   ]
  },
  {
   "cell_type": "code",
   "execution_count": 2,
   "metadata": {},
   "outputs": [],
   "source": [
    "import numpy as np\n",
    "from matplotlib import pyplot as plt\n",
    "# from problema_1 import plot_bar_chart\n",
    "# Importo el paquete para graficar\n",
    "from matplotlib import pyplot as plt"
   ]
  },
  {
   "cell_type": "markdown",
   "metadata": {},
   "source": [
    "# Naive bayes - Clasificación\n",
    "\n",
    "### Bibliografía recomendada\n",
    "https://nlp.stanford.edu/IR-book/ - Capitulo 13 -  \n",
    "http://scikit-learn.org/stable/modules/naive_bayes.html#naive-bayes"
   ]
  },
  {
   "cell_type": "markdown",
   "metadata": {},
   "source": [
    "## Ejemplos"
   ]
  },
  {
   "cell_type": "markdown",
   "metadata": {},
   "source": [
    "![](./images/student-admission.png)"
   ]
  },
  {
   "cell_type": "markdown",
   "metadata": {},
   "source": [
    "![](./images/chip-test.png)"
   ]
  },
  {
   "cell_type": "markdown",
   "metadata": {},
   "source": [
    "## Introducción teórica"
   ]
  },
  {
   "cell_type": "markdown",
   "metadata": {},
   "source": [
    "### Teorema de Bayes\n",
    "$P(y|x_1,x_2,...,x_n) = \\large \\frac{P(x_1, x_2,...,x_n|y) P(y)}{P(x_1,x_2,...,x_n)}$"
   ]
  },
  {
   "cell_type": "markdown",
   "metadata": {},
   "source": [
    "El numerador:\n",
    "\n",
    "$ \\large P(x_1, x_2,...,x_n|y) P(y) = P(y, x_1, x_2,...,x_n)$"
   ]
  },
  {
   "cell_type": "markdown",
   "metadata": {},
   "source": [
    "Por la regla de la cadena:\n",
    "\n",
    "$P(x_1,x_2, x_3, y) = P(x_1 | x_2, x_3,y)P(x_2,x_3, y) = P(x_1 | x_2, x_3,y)P(x_2|x_3, y)P(x_3, y) = P(x_1 | x_2, x_3,y)P(x_2|x_3, y)P(x_3| y)P(y)$"
   ]
  },
  {
   "cell_type": "markdown",
   "metadata": {},
   "source": [
    "#### Ejemplo con Aplicación SPAM"
   ]
  },
  {
   "cell_type": "markdown",
   "metadata": {},
   "source": [
    "$\\large P(SPAM| comprar,oferta,ganaste) = \\frac{P(comprar | oferta, ganaste,SPAM)P(oferta|ganaste, SPAM)P(ganaste| SPAM)P(SPAM)}{P(comprar, oferta, ganaste)}$"
   ]
  },
  {
   "cell_type": "markdown",
   "metadata": {},
   "source": [
    "De acá:\n",
    "- Calcular $P(y) = P(SPAM)$ es sencillo, ya que equivale a calcular la cantidad de mails spam sobre el total:\n",
    "\n",
    "$\\large \\frac{N_{spam}}{N_{mails}}$\n",
    "\n",
    "- Calcular $P(comprar,oferta,ganaste)$ también sería sencillo, ya que equivale a contar la cantidad de mails que contienen estas 3 palabras sobre el total.\n",
    "\n",
    "Para el likelihood:"
   ]
  },
  {
   "cell_type": "markdown",
   "metadata": {},
   "source": [
    "$P(comprar,oferta,ganaste,SPAM) = P(comprar | oferta, ganaste,SPAM)P(oferta|ganaste, SPAM)P(ganaste| SPAM)P(SPAM)$\n",
    "\n",
    "El problema es que si supongo la esta probabilidad como condicional, quizás hayan pocos mails cumplan con todas las condiciones en simultáneo, es decir, que contengan las tres palabras juntas y por lo tanto tendré dará una probabilidad chica sino 0, cuando en realiada muchos de estos mails, aunque no contengan las 3 palabras en simultáneo, serán SPAM."
   ]
  },
  {
   "cell_type": "markdown",
   "metadata": {},
   "source": [
    "---"
   ]
  },
  {
   "cell_type": "markdown",
   "metadata": {},
   "source": [
    "Asumiendo independencia\n",
    "\n",
    "$P(x_i|y) = P(x_i|y,x_1,...)$\n",
    "\n",
    "$P(comprar,oferta,ganaste,SPAM) = P(comprar | SPAM)P(oferta|SPAM)P(ganaste| SPAM)P(SPAM)$"
   ]
  },
  {
   "cell_type": "markdown",
   "metadata": {},
   "source": [
    "$\\large P(SPAM| comprar,oferta,ganaste) = \\large  \\frac{P(comprar|SPAM)P(oferta|SPAM)P(ganaste| SPAM)P(SPAM)}{P(comprar, oferta, ganaste)}$"
   ]
  },
  {
   "cell_type": "markdown",
   "metadata": {},
   "source": [
    "### Naive Bayes\n",
    "\n",
    "$\\huge P(y|x_1,x_2,...,x_n) = \\huge \\frac{P(y)\\prod P(x_i/y)} {P(x_1,x_2,...,x_n)} = \\alpha {P(y)\\prod P(x_i/y)}$\n",
    "\n",
    "(Compararlo con teorema de Bayes)"
   ]
  },
  {
   "cell_type": "markdown",
   "metadata": {},
   "source": [
    "$\\large \\hat{y} = arg max_y [{P(y)\\prod P(x_i/y)}]$"
   ]
  },
  {
   "cell_type": "markdown",
   "metadata": {},
   "source": [
    "Ejemplo SPAM: \n",
    "\n",
    "La variable aleatoria $y$ puede ser: [SPAM, NO_SPAM]. Calculo ${P(y)\\prod P(x_i/y)}$ para ambos casos y me quedo con el mayor\n",
    "\n",
    "Como el denominador es el mismo para ambos casos, no hace falta calcularlo"
   ]
  },
  {
   "cell_type": "markdown",
   "metadata": {},
   "source": [
    "Para calcular esto en la práctica, lo que tengo que hacer es, para cada $y_i$ (SPAM, HAM), calcular la probabilidad de que cada palabra pertenezca a una u otra clase. Esto lo hago al calcular la proporción, para cada palabra, que pertenece a una clase u otra. Ej:\n",
    "\n",
    "$\\large P(oferta|SPAM) = \\frac{Veces\\ que\\ aparece\\ \"oferta\"\\ en\\ mails\\ de\\ SPAM}{N\\ mails\\ aparece\\ \"oferta\"\\ en\\ el\\ total\\ de\\ mails} $ ??\n",
    "\n",
    "o\n",
    "\n",
    "$\\large P(oferta|SPAM) = \\frac{Veces\\ que\\ aparece\\ \"oferta\"\\ en\\ mails\\ de\\ SPAM}{Cantidad\\ palabras\\ en\\ mails\\ SPAM} $ ??\n",
    "\n",
    "$\\large P(oferta|HAM) =\\frac{Veces\\ que\\ aparece\\ \"oferta\"\\ en\\ mails\\ de\\ HAM}{Veces\\ que\\ aparece\\ \"oferta\"\\ en\\ el\\ total\\ de\\ mails} $\n",
    "\n",
    "o \n",
    "\n",
    "$\\large P(oferta|HAM) = \\frac{Veces\\ que\\ aparece\\ \"oferta\"\\ en\\ mails\\ de\\ HAM}{N\\ mails\\ HAM} $ ??"
   ]
  },
  {
   "cell_type": "markdown",
   "metadata": {},
   "source": [
    "---"
   ]
  },
  {
   "cell_type": "markdown",
   "metadata": {},
   "source": [
    "## Detección de SPAM\n",
    "V. Metsis, I. Androutsopoulos and G. Paliouras (2006). Spam filtering with Naive Bayes – Which Naive Bayes? 3rd Conf. on Email and Anti-Spam (CEAS).\n",
    "http://citeseerx.ist.psu.edu/viewdoc/download;jsessionid=1EEA3C5EE5DDF8409BCC0F09BFB7D98B?doi=10.1.1.61.5542&rep=rep1&type=pdf\n",
    "\n",
    "Tenemos un dataset donde ya esta preprocesado el texto\n",
    "- Lemmatization, stemming\n",
    "- Stop words"
   ]
  },
  {
   "cell_type": "code",
   "execution_count": 3,
   "metadata": {},
   "outputs": [],
   "source": [
    "from sklearn.feature_extraction.text import CountVectorizer"
   ]
  },
  {
   "cell_type": "code",
   "execution_count": 4,
   "metadata": {},
   "outputs": [],
   "source": [
    "import os\n",
    "from collections import Counter\n",
    "train_dir = './ling-spam/train-mails'\n",
    "emails = [os.path.join(train_dir,f) for f in os.listdir(train_dir)] "
   ]
  },
  {
   "cell_type": "code",
   "execution_count": 5,
   "metadata": {},
   "outputs": [
    {
     "data": {
      "text/plain": [
       "(['./ling-spam/train-mails\\\\3-1msg1.txt',\n",
       "  './ling-spam/train-mails\\\\3-1msg2.txt',\n",
       "  './ling-spam/train-mails\\\\3-1msg3.txt',\n",
       "  './ling-spam/train-mails\\\\3-375msg1.txt',\n",
       "  './ling-spam/train-mails\\\\3-378msg1.txt',\n",
       "  './ling-spam/train-mails\\\\3-378msg2.txt',\n",
       "  './ling-spam/train-mails\\\\3-378msg3.txt',\n",
       "  './ling-spam/train-mails\\\\3-378msg4.txt',\n",
       "  './ling-spam/train-mails\\\\3-378msg5.txt',\n",
       "  './ling-spam/train-mails\\\\3-379msg1.txt'],\n",
       " 702)"
      ]
     },
     "execution_count": 5,
     "metadata": {},
     "output_type": "execute_result"
    }
   ],
   "source": [
    "emails[0:10], len(emails)"
   ]
  },
  {
   "cell_type": "code",
   "execution_count": 6,
   "metadata": {},
   "outputs": [
    {
     "name": "stdout",
     "output_type": "stream",
     "text": [
      "0 Subject: 2 . 882 s - > np np\n",
      "\n",
      "1 \n",
      "\n",
      "2 . . . 's much restrictive s - > np np . 's \" \" np pro quite over-restriction , .\n",
      "\n"
     ]
    }
   ],
   "source": [
    "m = open(emails[2])\n",
    "for i,line in enumerate(m):\n",
    "    print(i, line)\n",
    "m.close()"
   ]
  },
  {
   "cell_type": "code",
   "execution_count": 7,
   "metadata": {},
   "outputs": [
    {
     "name": "stdout",
     "output_type": "stream",
     "text": [
      "<_io.TextIOWrapper name='./ling-spam/train-mails\\\\3-1msg3.txt' mode='r' encoding='cp1252'>\n",
      "0 Subject: 2 . 882 s - > np np\n",
      "\n",
      "1 \n",
      "\n",
      "2 . . . 's much restrictive s - > np np . 's \" \" np pro quite over-restriction , .\n",
      "\n"
     ]
    }
   ],
   "source": [
    "with open(emails[2]) as m:\n",
    "    print(m)\n",
    "    for i,line in enumerate(m):\n",
    "        print(i, line)"
   ]
  },
  {
   "cell_type": "code",
   "execution_count": 8,
   "metadata": {},
   "outputs": [],
   "source": [
    "def make_Dictionary(train_dir):\n",
    "    # Train dir es la carpeta para parsear\n",
    "    emails_array = []\n",
    "    labels = []\n",
    "    # Emails es una lista con los nombres de los archivos\n",
    "    emails = [os.path.join(train_dir,f) for f in os.listdir(train_dir)] \n",
    "    # All words contendrá todas las palabras del mail\n",
    "    all_words = []       \n",
    "    for mail in emails:\n",
    "        # mail es el nombre del archivo\n",
    "        with open(mail) as m:\n",
    "            # m es el archivo abierto\n",
    "            if 'spmsg' in mail.split('/')[-1]:\n",
    "                # Si el nombre del archivo contiene 'spmsg' es spam\n",
    "                labels.append(True)\n",
    "            else:\n",
    "                labels.append(False)\n",
    "            # email_str va a guardar el mail como string\n",
    "            email_str = ''\n",
    "            for i,line in enumerate(m):\n",
    "                if i == 2:  #Body of email is only 3rd (i=2) line of text file\n",
    "                    words = line.split() # Separo cada palabra de la línea y las guardo como elementos de una lista\n",
    "                    all_words += words  # Agrego la lista anterior a all_words\n",
    "                    email_str = email_str + ' ' + line # Voy guardando todas las líneas del mail en un único string\n",
    "            emails_array.append(email_str)\n",
    "    dictionary = Counter(all_words)\n",
    "    return dictionary, emails_array, labels\n",
    "\n",
    "def remove_uncommon_words(dictionary):\n",
    "    # Dictionary es un counter con todas las palabras y su cantidad de ocurrencias\n",
    "    dict_copy = { k : v for k,v in dictionary.items()}\n",
    "    list_to_remove = dictionary.keys() # Palabras recolectadas\n",
    "    for item in list_to_remove:\n",
    "        if item.isalpha() == False: \n",
    "            # Remueve lo que no sean palabras con letras del abcedario\n",
    "            del dict_copy[item]\n",
    "        elif len(item) == 1:\n",
    "            # Remueve las palabras de una letra\n",
    "            del dict_copy[item]\n",
    "    return Counter(dict_copy)"
   ]
  },
  {
   "cell_type": "code",
   "execution_count": 9,
   "metadata": {},
   "outputs": [],
   "source": [
    "def read_emails_and_get_dict(folder, max_features=3000):\n",
    "    dictionary, emails_array, labels = make_Dictionary(folder)\n",
    "    dictionary = remove_uncommon_words(dictionary)\n",
    "    dictionary = dictionary.most_common(max_features) # Me quedo con el top \"max_features\"\n",
    "    vocabulary = [key[0] for key in dictionary]\n",
    "    return vocabulary, emails_array, np.array(labels)"
   ]
  },
  {
   "cell_type": "markdown",
   "metadata": {},
   "source": [
    "### NOTA\n",
    "\n",
    "En esta resolución hay una serie de arbitrariedades adoptadas que bien podrían habese planteado de otra manera:\n",
    "\n",
    "- Los tokens (elementos) a considerar son palabras separadas por espacios. En este caso, 'Nueva York', es tomando como 2 palabras distintas e independientes entre sí. Otro criterio a adoptar para tokenizar el texto podría haber sido *Ngramas* mediante *Stemming* o *Lematizacion*. La lematización lleva todos los verbos a infinitivos o a una palabra \"padre\" que existe. El stemming extrae la raíz común de las palabras, que no necesariamente son palabras existentes.\n",
    "\n",
    "- Se trabaja con las 3000 palabras que más aparecen en el total de e-mails.\n",
    "\n",
    "- Todas las palabras se consideran, no se eliminan Stopwords, artículos, etc.\n"
   ]
  },
  {
   "cell_type": "code",
   "execution_count": 10,
   "metadata": {},
   "outputs": [],
   "source": [
    "max_features = 3000 # Tamaño máximo de vocabulario (palabras a considerar)\n",
    "vocabulary, emails_array, labels = read_emails_and_get_dict('./ling-spam/train-mails', max_features)\n",
    "count_vectorizer = CountVectorizer(vocabulary=vocabulary)\n",
    "feature_matrix = count_vectorizer.fit_transform(emails_array)"
   ]
  },
  {
   "cell_type": "markdown",
   "metadata": {},
   "source": [
    "Count Vectorizer, mediante el método `fit_transform`, devuelve una matriz donde: \n",
    "\n",
    "- Hay una fila por cada email, \n",
    "- Hay una columna por cada palabra (3000 features)\n",
    "- Cada intersección de fila, columna es la cantidad de veces que aparece la palabra en cada mail.\n",
    "\n",
    "Esta matriz, tiene como característica que tiene muchos ceros, a lo cual se le llama una *Matriz esparsa*.\n",
    "\n",
    "Por otro lado, `CountVectorizer` podría haber hecho toda la extracción de palabras que se hizo 'a mano' mediante las funciones definidas previamente."
   ]
  },
  {
   "cell_type": "code",
   "execution_count": 11,
   "metadata": {},
   "outputs": [
    {
     "data": {
      "text/plain": [
       "<702x3000 sparse matrix of type '<class 'numpy.int64'>'\n",
       "\twith 82608 stored elements in Compressed Sparse Row format>"
      ]
     },
     "execution_count": 11,
     "metadata": {},
     "output_type": "execute_result"
    }
   ],
   "source": [
    "feature_matrix"
   ]
  },
  {
   "cell_type": "markdown",
   "metadata": {},
   "source": [
    "Numpy almacena la matriz como esparsa. Esto es, se almacenan las distintas posiciones de la matriz donde los valores son distintos de 0 con su respectivo valor. De esta manera se ahorra en espacio de almacenamiento."
   ]
  },
  {
   "cell_type": "code",
   "execution_count": 12,
   "metadata": {},
   "outputs": [
    {
     "data": {
      "text/plain": [
       "0.9607749287749288"
      ]
     },
     "execution_count": 12,
     "metadata": {},
     "output_type": "execute_result"
    }
   ],
   "source": [
    "# Qué tan esparsa es la matriz? Se mide el % de ceros sobre tamaño total de la matriz\n",
    "1-(feature_matrix != 0).sum()/(702*3000)"
   ]
  },
  {
   "cell_type": "code",
   "execution_count": 13,
   "metadata": {},
   "outputs": [],
   "source": [
    "# Este método permite volver a una matriz densa (tradicional, con todos los 0)\n",
    "# feature_matrix.todense()[:, 0]"
   ]
  },
  {
   "cell_type": "code",
   "execution_count": 14,
   "metadata": {},
   "outputs": [
    {
     "data": {
      "text/plain": [
       "' . . . \\'s much restrictive s - > np np . \\'s \" \" np pro quite over-restriction , .\\n'"
      ]
     },
     "execution_count": 14,
     "metadata": {},
     "output_type": "execute_result"
    }
   ],
   "source": [
    "emails_array[2]"
   ]
  },
  {
   "cell_type": "code",
   "execution_count": 15,
   "metadata": {},
   "outputs": [],
   "source": [
    "# count_vectorizer.vocabulary_"
   ]
  },
  {
   "cell_type": "code",
   "execution_count": 16,
   "metadata": {},
   "outputs": [
    {
     "data": {
      "text/plain": [
       "((702, 3000), (702,))"
      ]
     },
     "execution_count": 16,
     "metadata": {},
     "output_type": "execute_result"
    }
   ],
   "source": [
    "feature_matrix.shape, labels.shape\n",
    "# (702, 19571)"
   ]
  },
  {
   "cell_type": "code",
   "execution_count": 17,
   "metadata": {},
   "outputs": [
    {
     "data": {
      "text/plain": [
       "array([False, False, False, False, False, False, False, False, False,\n",
       "       False])"
      ]
     },
     "execution_count": 17,
     "metadata": {},
     "output_type": "execute_result"
    }
   ],
   "source": [
    "labels[:10]"
   ]
  },
  {
   "cell_type": "code",
   "execution_count": 18,
   "metadata": {},
   "outputs": [
    {
     "data": {
      "text/plain": [
       "351"
      ]
     },
     "execution_count": 18,
     "metadata": {},
     "output_type": "execute_result"
    }
   ],
   "source": [
    "# Cantidad de SPAM\n",
    "labels.sum()"
   ]
  },
  {
   "cell_type": "code",
   "execution_count": 19,
   "metadata": {},
   "outputs": [
    {
     "data": {
      "text/plain": [
       "97941"
      ]
     },
     "execution_count": 19,
     "metadata": {},
     "output_type": "execute_result"
    }
   ],
   "source": [
    "# Filtro feature_matrix por los mails que son SPAM\n",
    "feature_matrix[labels, :].sum()"
   ]
  },
  {
   "cell_type": "markdown",
   "metadata": {},
   "source": [
    "Calculo, para los mails SPAM (filas s/ labels = TRUE), la suma en sentido de las filas (axis = 0) para cada columna. Es decir, la cantidad de ocurrencia de cada palabra en el total de mails de SPAM"
   ]
  },
  {
   "cell_type": "code",
   "execution_count": 20,
   "metadata": {},
   "outputs": [
    {
     "data": {
      "text/plain": [
       "matrix([[1308, 1135, 1175, ...,    6,    7,    6]], dtype=int64)"
      ]
     },
     "execution_count": 20,
     "metadata": {},
     "output_type": "execute_result"
    }
   ],
   "source": [
    "feature_matrix[labels, :].sum(axis=0)"
   ]
  },
  {
   "cell_type": "markdown",
   "metadata": {},
   "source": [
    "Si divido estas cantidades por la cantidad total de palabras de los mail de spam, estoy calculando la **probabilidad de que una palabra X aparezca en los mails de spam** "
   ]
  },
  {
   "cell_type": "code",
   "execution_count": 21,
   "metadata": {},
   "outputs": [],
   "source": [
    "hist_spam = feature_matrix[labels, :].sum(axis=0)/feature_matrix[labels, :].sum()"
   ]
  },
  {
   "cell_type": "code",
   "execution_count": 22,
   "metadata": {},
   "outputs": [
    {
     "data": {
      "text/plain": [
       "(1, 3000)"
      ]
     },
     "execution_count": 22,
     "metadata": {},
     "output_type": "execute_result"
    }
   ],
   "source": [
    "hist_spam.shape"
   ]
  },
  {
   "cell_type": "code",
   "execution_count": 23,
   "metadata": {},
   "outputs": [
    {
     "data": {
      "text/plain": [
       "array([False, False, False, False, False])"
      ]
     },
     "execution_count": 23,
     "metadata": {},
     "output_type": "execute_result"
    }
   ],
   "source": [
    "labels[:5]"
   ]
  },
  {
   "cell_type": "code",
   "execution_count": 24,
   "metadata": {},
   "outputs": [
    {
     "data": {
      "text/plain": [
       "array([ True,  True,  True,  True,  True])"
      ]
     },
     "execution_count": 24,
     "metadata": {},
     "output_type": "execute_result"
    }
   ],
   "source": [
    "# True -> False y viceversa\n",
    "~labels[:5]"
   ]
  },
  {
   "cell_type": "code",
   "execution_count": 25,
   "metadata": {},
   "outputs": [
    {
     "data": {
      "text/plain": [
       "702"
      ]
     },
     "execution_count": 25,
     "metadata": {},
     "output_type": "execute_result"
    }
   ],
   "source": [
    "len(labels)"
   ]
  },
  {
   "cell_type": "code",
   "execution_count": 26,
   "metadata": {},
   "outputs": [
    {
     "data": {
      "text/plain": [
       "(351, 3000)"
      ]
     },
     "execution_count": 26,
     "metadata": {},
     "output_type": "execute_result"
    }
   ],
   "source": [
    "feature_matrix[~labels, :].shape"
   ]
  },
  {
   "cell_type": "code",
   "execution_count": 27,
   "metadata": {
    "tags": []
   },
   "outputs": [
    {
     "name": "stdout",
     "output_type": "stream",
     "text": [
      "[False False False False False False False False False False]\n",
      "['order', 'address', 'report', 'mail', 'send', 'language', 'email', 'program', 'our', 'list']\n",
      "  (0, 5)\t1\n",
      "  (0, 9)\t1\n",
      "  (0, 11)\t4\n",
      "  (0, 22)\t1\n",
      "  (0, 37)\t1\n",
      "  (0, 42)\t1\n",
      "  (0, 47)\t1\n",
      "  (0, 51)\t1\n",
      "  (0, 57)\t1\n",
      "  (0, 116)\t1\n",
      "  (0, 118)\t1\n",
      "  (0, 140)\t1\n",
      "  (0, 143)\t1\n",
      "  (0, 207)\t1\n",
      "  (0, 260)\t1\n",
      "  (0, 273)\t1\n",
      "  (0, 289)\t1\n",
      "  (0, 298)\t1\n",
      "  (0, 318)\t3\n",
      "  (0, 337)\t1\n",
      "  (0, 375)\t1\n",
      "  (0, 384)\t1\n",
      "  (0, 430)\t1\n",
      "  (0, 453)\t1\n",
      "  (0, 470)\t2\n",
      "  :\t:\n",
      "  (701, 180)\t1\n",
      "  (701, 204)\t1\n",
      "  (701, 253)\t1\n",
      "  (701, 299)\t1\n",
      "  (701, 378)\t1\n",
      "  (701, 434)\t1\n",
      "  (701, 513)\t1\n",
      "  (701, 569)\t1\n",
      "  (701, 604)\t2\n",
      "  (701, 646)\t1\n",
      "  (701, 667)\t1\n",
      "  (701, 821)\t1\n",
      "  (701, 854)\t1\n",
      "  (701, 867)\t1\n",
      "  (701, 949)\t1\n",
      "  (701, 963)\t1\n",
      "  (701, 999)\t1\n",
      "  (701, 1150)\t1\n",
      "  (701, 1220)\t1\n",
      "  (701, 1239)\t1\n",
      "  (701, 1243)\t1\n",
      "  (701, 1281)\t1\n",
      "  (701, 1856)\t1\n",
      "  (701, 2044)\t1\n",
      "  (701, 2496)\t1\n"
     ]
    }
   ],
   "source": [
    "print(labels[0:10])\n",
    "print(vocabulary[0:10])\n",
    "print(feature_matrix)"
   ]
  },
  {
   "cell_type": "markdown",
   "metadata": {},
   "source": [
    "Hay palabras que están presentes en SPAM y no en mails HAM o al revés. La probabilidad, en este caso de esa palabra será 0. Es de interés evitar esto ya que una probabilidad = 0 me hará que todo el likelihood (producto de probabilidades de cada palabra para cada clase) sea igual a 0.\n",
    "\n",
    "Es por este motivo que se aplica lo que se llama como **smoothing laplaciano** y se suma un factor de `alpha` (1 en este caso) a todos los elementos de la matriz (tanto aquellos que tienen valor 0 como aquellos que no), eliminando así la posibilidad de tener un valor de probabilidad nula en algún caso. Se suma 1 y no un número mayor, porque si éste fuera demasiado grande, terminaría por reducir el peso de las demás palabras con respecto al dataset.\n",
    "\n",
    "Este valor `alpha` es, entonces, un hiperparámetro del modelo."
   ]
  },
  {
   "cell_type": "code",
   "execution_count": null,
   "metadata": {},
   "outputs": [],
   "source": [
    "print(feature_matrix.sum(axis=0).shape)\n",
    "print(feature_matrix.sum(axis=0))\n",
    "print(feature_matrix.sum(axis=0) + 1)\n",
    "print((feature_matrix.sum(axis=0) + 1).sum())"
   ]
  },
  {
   "cell_type": "code",
   "execution_count": null,
   "metadata": {},
   "outputs": [],
   "source": [
    "def get_histogram_from_matrix(alpha, feature_matrix):\n",
    "    # Alpha es para suavizar y evitar la probabilidad cero. Normalmente 1\n",
    "    # Es como agregar un mail con todas las palabras\n",
    "    words_distribution_un = feature_matrix.sum(axis=0) + alpha\n",
    "    # Calculo la probabilidad de aparición de cada palabra (cantidad de ocurrencias/total de palabras)\n",
    "    words_distribution = words_distribution_un/(words_distribution_un.sum()) # + alpha*feature_matrix.shape[1])\n",
    "    return words_distribution\n",
    "\n",
    "spam_feature_matrix = feature_matrix[labels,:]\n",
    "ham_feature_matrix = feature_matrix[np.logical_not(labels),:]\n",
    "\n",
    "print('SPAM:',labels.nonzero()[0].shape[0],\n",
    "      \n",
    "      'HAM:',np.logical_not(labels).nonzero()[0].shape[0],\n",
    "      'total:',len(labels))\n",
    "\n",
    "print()\n",
    "print('Palabras diferentes')\n",
    "print('SPAM:', spam_feature_matrix.nonzero()[0].shape[0],\n",
    "      'HAM:',ham_feature_matrix.nonzero()[0].shape[0])\n",
    "\n",
    "print()\n",
    "print('Cantidad de palabras')\n",
    "print('SPAM:',spam_feature_matrix.sum(), 'HAM:',ham_feature_matrix.sum())\n",
    "\n",
    "\n",
    "# P(x_i/SPAM)\n",
    "spam_words_distribution = get_histogram_from_matrix(1, spam_feature_matrix)\n",
    "# P(x_i/HAM)\n",
    "ham_words_distribution = get_histogram_from_matrix(1, ham_feature_matrix)"
   ]
  },
  {
   "cell_type": "markdown",
   "metadata": {},
   "source": [
    "$\\hat{y} = arg max_y [{P(y)\\prod P(x_i/y)}]$\n",
    "\n",
    "$y = [SPAM, HAM]$"
   ]
  },
  {
   "cell_type": "code",
   "execution_count": null,
   "metadata": {},
   "outputs": [],
   "source": [
    "def plot_bar_chart(P, vocabulary = None, title='title', show_graph=False):\n",
    "    N = len(P)\n",
    "    if show_graph:\n",
    "        plt.figure(figsize=(20, 5)) # Tamaño del gráfico\n",
    "    indexes = list(range(1, len(P) + 1))\n",
    "    plt.bar(indexes, P, width=0.75, alpha=0.5, label=title) # Grafico\n",
    "#     plt.title(title)\n",
    "\n",
    "    # Definición de indices\n",
    "    if not vocabulary:\n",
    "        string_indexes = [str(i) for i in indexes]\n",
    "    else:\n",
    "        string_indexes = [vocabulary[i-1] for i in indexes]\n",
    "    plt.xlim([0,N+1])\n",
    "    plt.xticks(indexes, string_indexes, fontsize=24) \n",
    "    plt.xticks(rotation=80)\n",
    "    if show_graph:\n",
    "        plt.show()"
   ]
  },
  {
   "cell_type": "code",
   "execution_count": null,
   "metadata": {},
   "outputs": [],
   "source": [
    "plt.figure(figsize=(30, 5))\n",
    "N = 50\n",
    "plot_bar_chart(np.array(spam_words_distribution)[0][:N],\n",
    "               vocabulary = vocabulary,\n",
    "               title='SPAM')\n",
    "plot_bar_chart(np.array(ham_words_distribution)[0][:N],\n",
    "               vocabulary = vocabulary,\n",
    "               title='HAM')\n",
    "plt.legend()"
   ]
  },
  {
   "cell_type": "code",
   "execution_count": null,
   "metadata": {},
   "outputs": [],
   "source": [
    "spam_words_distribution"
   ]
  },
  {
   "cell_type": "code",
   "execution_count": null,
   "metadata": {},
   "outputs": [],
   "source": [
    "ham_words_distribution"
   ]
  },
  {
   "cell_type": "code",
   "execution_count": null,
   "metadata": {},
   "outputs": [],
   "source": [
    "non_zero_row"
   ]
  },
  {
   "cell_type": "code",
   "execution_count": null,
   "metadata": {},
   "outputs": [],
   "source": [
    "non_zero_row"
   ]
  },
  {
   "cell_type": "markdown",
   "metadata": {},
   "source": [
    "$\\large \\hat{y} = arg max_y [{P(y)\\prod P(x_i/y)}]$"
   ]
  },
  {
   "cell_type": "code",
   "execution_count": null,
   "metadata": {},
   "outputs": [],
   "source": [
    "# Non-zero devuelve una matriz indicando en qué fila y columna hay valores distintos de cero en una matriz.\n",
    "no_zero = feature_matrix[0,:].nonzero()\n",
    "no_zero"
   ]
  },
  {
   "cell_type": "markdown",
   "metadata": {},
   "source": [
    "Como en este caso le estoy pasando un vector de 1 fila y 3000 columnas, me devuelve 0 en todos los índices de fila donde hay valores nulos."
   ]
  },
  {
   "cell_type": "code",
   "execution_count": null,
   "metadata": {},
   "outputs": [],
   "source": [
    "spam_words_distribution[no_zero]"
   ]
  },
  {
   "cell_type": "code",
   "execution_count": null,
   "metadata": {},
   "outputs": [],
   "source": [
    "feature_matrix[no_zero]"
   ]
  },
  {
   "cell_type": "code",
   "execution_count": null,
   "metadata": {
    "tags": []
   },
   "outputs": [],
   "source": [
    "# Veamos si el primer email es SPAM o no\n",
    "# El primer mail corresponde a la primer fila de la matriz\n",
    "idx = 0\n",
    "row = feature_matrix[idx,:]\n",
    "\n",
    "# Estas son las posiciones donde \n",
    "non_zero_row = row.nonzero() \n",
    "print('Email preprocesado:', emails_array[idx])\n",
    "# Cast de vocabulary a np.array para poder indexarlo con más de una posición.\n",
    "print('Palabras:', np.array(vocabulary)[non_zero_row[1]])\n",
    "print('Primer email codificado:')\n",
    "print(row)\n",
    "print('Elementos distintos de cero:',non_zero_row[1])\n",
    "print('Producto, no es necesario [P(Y) = P(SPAM) = P(HAM)] por que es para ambos casos igual. Lo mismo el denominador')\n",
    "# spam_words_distribution[non_zero_row] : Valores de probabilidad de ocurrencia donde la cantidad de palabras es distinta de cero (la probabilidad no será 0 por el smoothing aplicado)\n",
    "# feature_matrix[non_zero_row]:  La cantidad de ocurrencia de dichas palabras\n",
    "# Se eleva la probabilidad a la cantidad de veces que aparece cada palabra porque a la misma ocurrencia de una palabra la considero como dos palabras independientes.\n",
    "print(np.power(spam_words_distribution[non_zero_row], feature_matrix[non_zero_row]).prod())\n",
    "print(np.power(ham_words_distribution[non_zero_row], feature_matrix[non_zero_row]).prod())\n",
    "# Se calcula el log likelihood para evitar la inestabilidad numética. log(x^y) = log(x)*log(y)\n",
    "print('Log likelihood')\n",
    "print(np.log(spam_words_distribution[non_zero_row])*feature_matrix[non_zero_row].T)\n",
    "print(np.log(ham_words_distribution[non_zero_row])*feature_matrix[non_zero_row].T)"
   ]
  },
  {
   "cell_type": "code",
   "execution_count": null,
   "metadata": {},
   "outputs": [],
   "source": [
    "np.array(vocabulary)[non_zero_row[1]]"
   ]
  },
  {
   "cell_type": "code",
   "execution_count": null,
   "metadata": {},
   "outputs": [],
   "source": [
    "emails_array[0]"
   ]
  },
  {
   "cell_type": "markdown",
   "metadata": {},
   "source": [
    "¿Por que usamos log likelihood?"
   ]
  },
  {
   "cell_type": "code",
   "execution_count": null,
   "metadata": {},
   "outputs": [],
   "source": [
    "def get_accuracy(feature_matrix, labels, spam_words_distribution, ham_words_distribution):\n",
    "    P_SPAM = labels.nonzero()[0].shape[0]/len(labels) # Por que no es necesario en este caso?\n",
    "    P_HAM = np.logical_not(labels).nonzero()[0].shape[0]/len(labels) # Por que no es necesario en este caso?\n",
    "    correct_count = 0\n",
    "    for i, row in enumerate(feature_matrix):\n",
    "        coded_email = row.nonzero()\n",
    "        spam_prod = np.log(spam_words_distribution[coded_email]) * feature_matrix[i][coded_email].T\n",
    "        ham_prod = np.log(ham_words_distribution[coded_email]) * feature_matrix[i][coded_email].T\n",
    "        spam_log_likelihood = spam_prod + np.log(P_SPAM)\n",
    "        ham_log_likelihood = ham_prod + np.log(P_HAM)\n",
    "        SPAM = spam_log_likelihood>=ham_log_likelihood\n",
    "        if SPAM == labels[i]:\n",
    "            correct_count = correct_count + 1\n",
    "    print('%0.3f'%(correct_count/len(labels)))"
   ]
  },
  {
   "cell_type": "code",
   "execution_count": null,
   "metadata": {},
   "outputs": [],
   "source": [
    "get_accuracy(feature_matrix, labels, spam_words_distribution, ham_words_distribution)"
   ]
  },
  {
   "cell_type": "markdown",
   "metadata": {},
   "source": [
    "## Test set"
   ]
  },
  {
   "cell_type": "code",
   "execution_count": null,
   "metadata": {},
   "outputs": [],
   "source": [
    "_, emails_array, labels_test = read_emails_and_get_dict('./ling-spam/test-mails', max_features)\n",
    "count_vectorizer_test = CountVectorizer(vocabulary=vocabulary)\n",
    "feature_matrix_test = count_vectorizer.fit_transform(emails_array)"
   ]
  },
  {
   "cell_type": "code",
   "execution_count": 137,
   "metadata": {},
   "outputs": [
    {
     "name": "stdout",
     "output_type": "stream",
     "text": [
      "0.962\n"
     ]
    }
   ],
   "source": [
    "get_accuracy(feature_matrix_test, labels_test, spam_words_distribution, ham_words_distribution)"
   ]
  },
  {
   "cell_type": "markdown",
   "metadata": {},
   "source": [
    "# Sklearn MultinomialNB"
   ]
  },
  {
   "cell_type": "code",
   "execution_count": 137,
   "metadata": {},
   "outputs": [],
   "source": [
    "from sklearn.naive_bayes import MultinomialNB"
   ]
  },
  {
   "cell_type": "code",
   "execution_count": 142,
   "metadata": {},
   "outputs": [],
   "source": [
    "clf = MultinomialNB(alpha=1, class_prior=[0.5, 0.5], fit_prior=False)"
   ]
  },
  {
   "cell_type": "code",
   "execution_count": 146,
   "metadata": {},
   "outputs": [
    {
     "data": {
      "text/plain": [
       "array([[1.150e+02, 1.670e+02, 4.100e+01, ..., 5.000e+00, 4.000e+00,\n",
       "        7.000e+00],\n",
       "       [1.308e+03, 1.135e+03, 1.175e+03, ..., 3.000e+00, 4.000e+00,\n",
       "        1.000e+00]])"
      ]
     },
     "execution_count": 146,
     "metadata": {},
     "output_type": "execute_result"
    }
   ],
   "source": [
    "clf.feature_count_"
   ]
  },
  {
   "cell_type": "code",
   "execution_count": 144,
   "metadata": {},
   "outputs": [
    {
     "data": {
      "text/plain": [
       "MultinomialNB(alpha=1, class_prior=[0.5, 0.5], fit_prior=False)"
      ]
     },
     "execution_count": 144,
     "metadata": {},
     "output_type": "execute_result"
    }
   ],
   "source": [
    "clf.fit(feature_matrix, labels)"
   ]
  },
  {
   "cell_type": "code",
   "execution_count": 147,
   "metadata": {},
   "outputs": [
    {
     "name": "stdout",
     "output_type": "stream",
     "text": [
      "(2, 3000)\n",
      "(2, 3000)\n",
      "(2,)\n",
      "[0.5, 0.5]\n"
     ]
    }
   ],
   "source": [
    "print(clf.feature_log_prob_.shape)\n",
    "print(clf.feature_count_.shape)\n",
    "print(clf.class_log_prior_.shape)\n",
    "print(clf.class_prior)"
   ]
  },
  {
   "cell_type": "code",
   "execution_count": 148,
   "metadata": {},
   "outputs": [
    {
     "data": {
      "text/plain": [
       "0.99002849002849"
      ]
     },
     "execution_count": 148,
     "metadata": {},
     "output_type": "execute_result"
    }
   ],
   "source": [
    "clf.score(feature_matrix, labels)"
   ]
  },
  {
   "cell_type": "code",
   "execution_count": 149,
   "metadata": {},
   "outputs": [
    {
     "data": {
      "text/plain": [
       "0.9615384615384616"
      ]
     },
     "execution_count": 149,
     "metadata": {},
     "output_type": "execute_result"
    }
   ],
   "source": [
    "clf.score(feature_matrix_test, labels_test)"
   ]
  },
  {
   "cell_type": "code",
   "execution_count": 45,
   "metadata": {},
   "outputs": [
    {
     "name": "stdout",
     "output_type": "stream",
     "text": [
      "[False False  True False  True  True  True  True False False]\n"
     ]
    }
   ],
   "source": [
    "print(clf.predict(feature_matrix_test[100:110]))"
   ]
  },
  {
   "cell_type": "code",
   "execution_count": 150,
   "metadata": {},
   "outputs": [
    {
     "name": "stdout",
     "output_type": "stream",
     "text": [
      "[4.32577416e-203 9.25701855e-168 1.00000000e+000 9.54021707e-106\n",
      " 1.00000000e+000 1.00000000e+000 9.99990147e-001 1.00000000e+000\n",
      " 2.04412793e-077 7.70903147e-057]\n"
     ]
    }
   ],
   "source": [
    "print(clf.predict_proba(feature_matrix_test[100:110])[:,1])"
   ]
  },
  {
   "cell_type": "code",
   "execution_count": 167,
   "metadata": {},
   "outputs": [],
   "source": [
    "train_scores = []\n",
    "test_scores = []\n",
    "for alpha in [0.001, 0.2, 0.5, 1, 1.5, 2, 5, 10, 20, 40, 50, 100]:\n",
    "    clf = MultinomialNB(alpha=alpha, class_prior=[0.5, 0.5], fit_prior=False)\n",
    "    clf.fit(feature_matrix, labels)\n",
    "    test_scores.append(clf.score(feature_matrix_test, labels_test))\n",
    "    train_scores.append(clf.score(feature_matrix, labels))\n",
    "    "
   ]
  },
  {
   "cell_type": "code",
   "execution_count": 168,
   "metadata": {},
   "outputs": [
    {
     "data": {
      "text/plain": [
       "[0.9615384615384616,\n",
       " 0.9615384615384616,\n",
       " 0.9615384615384616,\n",
       " 0.9615384615384616,\n",
       " 0.9615384615384616,\n",
       " 0.9615384615384616,\n",
       " 0.9615384615384616,\n",
       " 0.9653846153846154,\n",
       " 0.9615384615384616,\n",
       " 0.9576923076923077,\n",
       " 0.9576923076923077,\n",
       " 0.95]"
      ]
     },
     "execution_count": 168,
     "metadata": {},
     "output_type": "execute_result"
    }
   ],
   "source": [
    "test_scores"
   ]
  },
  {
   "cell_type": "markdown",
   "metadata": {},
   "source": [
    "# Sklearn BernoulliNB\n",
    "Suele ser interesante evaluar Multinomial y Bernoulli para comparar resultados. A veces para textos cortos BernoulliNB puede dar mejores resultados"
   ]
  },
  {
   "cell_type": "code",
   "execution_count": 175,
   "metadata": {},
   "outputs": [],
   "source": [
    "from sklearn.naive_bayes import BernoulliNB"
   ]
  },
  {
   "cell_type": "code",
   "execution_count": 170,
   "metadata": {},
   "outputs": [],
   "source": [
    "clf_Ber = BernoulliNB(alpha=1, class_prior=[0.5, 0.5], fit_prior=False, binarize=0.5)"
   ]
  },
  {
   "cell_type": "code",
   "execution_count": 153,
   "metadata": {},
   "outputs": [
    {
     "data": {
      "text/plain": [
       "BernoulliNB(alpha=1, binarize=0.5, class_prior=[0.5, 0.5], fit_prior=False)"
      ]
     },
     "execution_count": 153,
     "metadata": {},
     "output_type": "execute_result"
    }
   ],
   "source": [
    "clf_Ber.fit(feature_matrix, labels)"
   ]
  },
  {
   "cell_type": "code",
   "execution_count": 154,
   "metadata": {},
   "outputs": [
    {
     "data": {
      "text/plain": [
       "0.8603988603988604"
      ]
     },
     "execution_count": 154,
     "metadata": {},
     "output_type": "execute_result"
    }
   ],
   "source": [
    "clf_Ber.score(feature_matrix, labels)"
   ]
  },
  {
   "cell_type": "code",
   "execution_count": 155,
   "metadata": {},
   "outputs": [
    {
     "data": {
      "text/plain": [
       "0.7653846153846153"
      ]
     },
     "execution_count": 155,
     "metadata": {},
     "output_type": "execute_result"
    }
   ],
   "source": [
    "clf_Ber.score(feature_matrix_test, labels_test)"
   ]
  },
  {
   "cell_type": "code",
   "execution_count": 172,
   "metadata": {},
   "outputs": [],
   "source": [
    "train_scores = []\n",
    "test_scores = []\n",
    "for alpha in [0.001, 0.2, 0.5, 1, 1.5, 2, 5, 10, 20, 40, 50, 100]:\n",
    "    clf = BernoulliNB(alpha=alpha, class_prior=[0.5, 0.5], fit_prior=False)\n",
    "    clf.fit(feature_matrix, labels)\n",
    "    test_scores.append(clf.score(feature_matrix_test, labels_test))\n",
    "    train_scores.append(clf.score(feature_matrix, labels))\n",
    "    "
   ]
  },
  {
   "cell_type": "code",
   "execution_count": 174,
   "metadata": {},
   "outputs": [
    {
     "data": {
      "text/plain": [
       "[0.8384615384615385,\n",
       " 0.7923076923076923,\n",
       " 0.7769230769230769,\n",
       " 0.7653846153846153,\n",
       " 0.7653846153846153,\n",
       " 0.7653846153846153,\n",
       " 0.75,\n",
       " 0.7038461538461539,\n",
       " 0.6846153846153846,\n",
       " 0.6692307692307692,\n",
       " 0.6538461538461539,\n",
       " 0.6192307692307693]"
      ]
     },
     "execution_count": 174,
     "metadata": {},
     "output_type": "execute_result"
    }
   ],
   "source": [
    "test_scores"
   ]
  },
  {
   "cell_type": "markdown",
   "metadata": {},
   "source": [
    "# ¿Es posible graficar un problema de dimensión 3000 en 2 dimensiones?"
   ]
  },
  {
   "cell_type": "code",
   "execution_count": 176,
   "metadata": {},
   "outputs": [
    {
     "data": {
      "text/plain": [
       "(702, 3000)"
      ]
     },
     "execution_count": 176,
     "metadata": {},
     "output_type": "execute_result"
    }
   ],
   "source": [
    "feature_matrix.shape"
   ]
  },
  {
   "cell_type": "code",
   "execution_count": 179,
   "metadata": {},
   "outputs": [],
   "source": [
    "from sklearn.manifold import TSNE\n",
    "from sklearn.decomposition import TruncatedSVD\n",
    "fmd = feature_matrix.todense()\n",
    "svd = TruncatedSVD(n_components=8, n_iter=200, random_state=42)\n",
    "svd.fit(fmd.T)\n",
    "X_embedded = TSNE(n_components=2).fit_transform(svd.components_.T)"
   ]
  },
  {
   "cell_type": "code",
   "execution_count": 180,
   "metadata": {},
   "outputs": [
    {
     "data": {
      "image/png": "[encoded data removed]",
      "text/plain": [
       "<Figure size 1440x720 with 1 Axes>"
      ]
     },
     "metadata": {
      "needs_background": "light"
     },
     "output_type": "display_data"
    }
   ],
   "source": [
    "plt.figure(figsize=(20,10))\n",
    "plt.scatter(X_embedded[labels,0], X_embedded[labels,1], color='b', s=10)\n",
    "plt.scatter(X_embedded[np.logical_not(labels),0], X_embedded[np.logical_not(labels),1], color='r', s=10)\n",
    "plt.show()"
   ]
  },
  {
   "cell_type": "code",
   "execution_count": 181,
   "metadata": {},
   "outputs": [
    {
     "data": {
      "text/plain": [
       "(702, 3000)"
      ]
     },
     "execution_count": 181,
     "metadata": {},
     "output_type": "execute_result"
    }
   ],
   "source": [
    "fmd.shape"
   ]
  },
  {
   "cell_type": "code",
   "execution_count": 182,
   "metadata": {},
   "outputs": [],
   "source": [
    "from sklearn.decomposition import PCA"
   ]
  },
  {
   "cell_type": "code",
   "execution_count": 183,
   "metadata": {},
   "outputs": [],
   "source": [
    "pca = PCA(n_components=2)\n",
    "X_new = pca.fit_transform(fmd)"
   ]
  },
  {
   "cell_type": "code",
   "execution_count": 184,
   "metadata": {},
   "outputs": [
    {
     "data": {
      "image/png": "[encoded data removed]",
      "text/plain": [
       "<Figure size 1440x720 with 1 Axes>"
      ]
     },
     "metadata": {
      "needs_background": "light"
     },
     "output_type": "display_data"
    }
   ],
   "source": [
    "plt.figure(figsize=(20,10))\n",
    "plt.scatter(X_new[labels,0], X_new[labels,1], color='b', s=10)\n",
    "plt.scatter(X_new[np.logical_not(labels),0], X_new[np.logical_not(labels),1], color='r', s=10)\n",
    "plt.ylim([-2,2])\n",
    "plt.xlim([-10,10])\n",
    "plt.show()"
   ]
  },
  {
   "cell_type": "code",
   "execution_count": null,
   "metadata": {},
   "outputs": [],
   "source": []
  }
 ],
 "metadata": {
  "kernelspec": {
   "display_name": "Python [conda env:diplo]",
   "language": "python",
   "name": "conda-env-diplo-py"
  },
  "language_info": {
   "codemirror_mode": {
    "name": "ipython",
    "version": 3
   },
   "file_extension": ".py",
   "mimetype": "text/x-python",
   "name": "python",
   "nbconvert_exporter": "python",
   "pygments_lexer": "ipython3",
   "version": "3.9.6"
  },
  "toc": {
   "colors": {
    "hover_highlight": "#DAA520",
    "navigate_num": "#000000",
    "navigate_text": "#333333",
    "running_highlight": "#FF0000",
    "selected_highlight": "#FFD700",
    "sidebar_border": "#EEEEEE",
    "wrapper_background": "#FFFFFF"
   },
   "moveMenuLeft": true,
   "nav_menu": {
    "height": "48px",
    "width": "252px"
   },
   "navigate_menu": true,
   "number_sections": true,
   "sideBar": false,
   "threshold": 4,
   "toc_cell": false,
   "toc_position": {
    "height": "295px",
    "left": "1px",
    "right": "20px",
    "top": "67px",
    "width": "212px"
   },
   "toc_section_display": "block",
   "toc_window_display": false,
   "widenNotebook": false
  }
 },
 "nbformat": 4,
 "nbformat_minor": 4
}
